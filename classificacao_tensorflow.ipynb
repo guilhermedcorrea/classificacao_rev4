{
 "cells": [
  {
   "cell_type": "code",
   "execution_count": 3,
   "metadata": {},
   "outputs": [],
   "source": [
    "import pandas as pd\n",
    "import numpy as np\n",
    "from sklearn.preprocessing import OneHotEncoder, LabelEncoder\n",
    "from sklearn.feature_selection import VarianceThreshold\n",
    "from imblearn.over_sampling import SMOTE\n",
    "from sklearn.model_selection import GridSearchCV, StratifiedKFold\n",
    "from tensorflow.keras.models import Sequential\n",
    "from tensorflow.keras.layers import Dense\n",
    "from sklearn.base import BaseEstimator, ClassifierMixin\n",
    "import tensorflow as tf\n",
    "import matplotlib.pyplot as plt\n"
   ]
  },
  {
   "cell_type": "code",
   "execution_count": 10,
   "metadata": {},
   "outputs": [],
   "source": [
    "base_treino = pd.read_csv(r\"D:\\pipeline_dados\\data_raw\\base_orcamentos_treino.csv\")\n",
    "x_teste_df = pd.read_csv(r\"D:\\pipeline_dados\\base_orcamentos_nov.csv\")\n"
   ]
  },
  {
   "cell_type": "code",
   "execution_count": 12,
   "metadata": {},
   "outputs": [
    {
     "data": {
      "text/plain": [
       "0      2023-11-01\n",
       "1      2023-11-01\n",
       "2      2023-11-01\n",
       "3      2023-11-01\n",
       "4      2023-11-01\n",
       "          ...    \n",
       "235    2023-11-24\n",
       "236    2023-11-24\n",
       "237    2023-11-24\n",
       "238    2023-11-24\n",
       "239    2023-11-24\n",
       "Name: dt_criacao, Length: 240, dtype: object"
      ]
     },
     "execution_count": 12,
     "metadata": {},
     "output_type": "execute_result"
    }
   ],
   "source": []
  },
  {
   "cell_type": "code",
   "execution_count": 20,
   "metadata": {},
   "outputs": [
    {
     "name": "stdout",
     "output_type": "stream",
     "text": [
      "Coluna: dias_desejo, Variancia: 598.4518131101813\n",
      "Coluna: dias_em_casa, Variancia: 42.13326359832636\n",
      "Coluna: revestimento, Variancia: 4.744612970711297\n",
      "Coluna: officina, Variancia: 3.510460251046025\n",
      "Coluna: loucas_metais, Variancia: 34.26316248256626\n",
      "Coluna: arg_rejunte, Variancia: 10.29984309623431\n",
      "Coluna: categ_outros, Variancia: 0.0\n",
      "Coluna: vl_frete, Variancia: 1360312.4981384657\n",
      "Coluna: vlr_orcamento, Variancia: 324498673.25825137\n",
      "Coluna: convertidos, Variancia: 22982.67557531381\n",
      "Coluna: nao_convertidos, Variancia: 26247.837499999998\n"
     ]
    }
   ],
   "source": [
    "for i in range(x_teste_df.shape[1]):\n",
    "    col_name = x_teste_df.columns[i]\n",
    "    \n",
    "    if np.issubdtype(x_teste_df.iloc[:, i].dtype, np.number):\n",
    "        col_variance = x_teste_df.iloc[:, i].var()\n",
    "        print(f\"Coluna: {col_name}, Variancia: {col_variance}\")\n",
    "    else:\n",
    "        pass\n",
    "        #print(f\"Coluna: {col_name} nao é numerico...\")\n",
    "\n"
   ]
  },
  {
   "cell_type": "code",
   "execution_count": 21,
   "metadata": {},
   "outputs": [],
   "source": [
    "from sklearn.feature_selection import VarianceThreshold"
   ]
  },
  {
   "cell_type": "code",
   "execution_count": 25,
   "metadata": {},
   "outputs": [
    {
     "ename": "ValueError",
     "evalue": "Expected 2D array, got scalar array instead:\narray=26247.837499999998.\nReshape your data either using array.reshape(-1, 1) if your data has a single feature or array.reshape(1, -1) if it contains a single sample.",
     "output_type": "error",
     "traceback": [
      "\u001b[1;31m---------------------------------------------------------------------------\u001b[0m",
      "\u001b[1;31mValueError\u001b[0m                                Traceback (most recent call last)",
      "\u001b[1;32md:\\pipeline_dados\\algoritmo_portobello\\classificacao_tensorflow.ipynb Cell 6\u001b[0m line \u001b[0;36m2\n\u001b[0;32m      <a href='vscode-notebook-cell:/d%3A/pipeline_dados/algoritmo_portobello/classificacao_tensorflow.ipynb#X34sZmlsZQ%3D%3D?line=0'>1</a>\u001b[0m selecao \u001b[39m=\u001b[39m VarianceThreshold(threshold\u001b[39m=\u001b[39m\u001b[39m5\u001b[39m)\n\u001b[1;32m----> <a href='vscode-notebook-cell:/d%3A/pipeline_dados/algoritmo_portobello/classificacao_tensorflow.ipynb#X34sZmlsZQ%3D%3D?line=1'>2</a>\u001b[0m X_selecao_variancia \u001b[39m=\u001b[39m selecao\u001b[39m.\u001b[39;49mfit_transform(col_variance)\n",
      "File \u001b[1;32md:\\pipeline_dados\\venv\\lib\\site-packages\\sklearn\\utils\\_set_output.py:157\u001b[0m, in \u001b[0;36m_wrap_method_output.<locals>.wrapped\u001b[1;34m(self, X, *args, **kwargs)\u001b[0m\n\u001b[0;32m    155\u001b[0m \u001b[39m@wraps\u001b[39m(f)\n\u001b[0;32m    156\u001b[0m \u001b[39mdef\u001b[39;00m \u001b[39mwrapped\u001b[39m(\u001b[39mself\u001b[39m, X, \u001b[39m*\u001b[39margs, \u001b[39m*\u001b[39m\u001b[39m*\u001b[39mkwargs):\n\u001b[1;32m--> 157\u001b[0m     data_to_wrap \u001b[39m=\u001b[39m f(\u001b[39mself\u001b[39;49m, X, \u001b[39m*\u001b[39;49margs, \u001b[39m*\u001b[39;49m\u001b[39m*\u001b[39;49mkwargs)\n\u001b[0;32m    158\u001b[0m     \u001b[39mif\u001b[39;00m \u001b[39misinstance\u001b[39m(data_to_wrap, \u001b[39mtuple\u001b[39m):\n\u001b[0;32m    159\u001b[0m         \u001b[39m# only wrap the first output for cross decomposition\u001b[39;00m\n\u001b[0;32m    160\u001b[0m         return_tuple \u001b[39m=\u001b[39m (\n\u001b[0;32m    161\u001b[0m             _wrap_data_with_container(method, data_to_wrap[\u001b[39m0\u001b[39m], X, \u001b[39mself\u001b[39m),\n\u001b[0;32m    162\u001b[0m             \u001b[39m*\u001b[39mdata_to_wrap[\u001b[39m1\u001b[39m:],\n\u001b[0;32m    163\u001b[0m         )\n",
      "File \u001b[1;32md:\\pipeline_dados\\venv\\lib\\site-packages\\sklearn\\base.py:916\u001b[0m, in \u001b[0;36mTransformerMixin.fit_transform\u001b[1;34m(self, X, y, **fit_params)\u001b[0m\n\u001b[0;32m    912\u001b[0m \u001b[39m# non-optimized default implementation; override when a better\u001b[39;00m\n\u001b[0;32m    913\u001b[0m \u001b[39m# method is possible for a given clustering algorithm\u001b[39;00m\n\u001b[0;32m    914\u001b[0m \u001b[39mif\u001b[39;00m y \u001b[39mis\u001b[39;00m \u001b[39mNone\u001b[39;00m:\n\u001b[0;32m    915\u001b[0m     \u001b[39m# fit method of arity 1 (unsupervised transformation)\u001b[39;00m\n\u001b[1;32m--> 916\u001b[0m     \u001b[39mreturn\u001b[39;00m \u001b[39mself\u001b[39;49m\u001b[39m.\u001b[39;49mfit(X, \u001b[39m*\u001b[39;49m\u001b[39m*\u001b[39;49mfit_params)\u001b[39m.\u001b[39mtransform(X)\n\u001b[0;32m    917\u001b[0m \u001b[39melse\u001b[39;00m:\n\u001b[0;32m    918\u001b[0m     \u001b[39m# fit method of arity 2 (supervised transformation)\u001b[39;00m\n\u001b[0;32m    919\u001b[0m     \u001b[39mreturn\u001b[39;00m \u001b[39mself\u001b[39m\u001b[39m.\u001b[39mfit(X, y, \u001b[39m*\u001b[39m\u001b[39m*\u001b[39mfit_params)\u001b[39m.\u001b[39mtransform(X)\n",
      "File \u001b[1;32md:\\pipeline_dados\\venv\\lib\\site-packages\\sklearn\\base.py:1152\u001b[0m, in \u001b[0;36m_fit_context.<locals>.decorator.<locals>.wrapper\u001b[1;34m(estimator, *args, **kwargs)\u001b[0m\n\u001b[0;32m   1145\u001b[0m     estimator\u001b[39m.\u001b[39m_validate_params()\n\u001b[0;32m   1147\u001b[0m \u001b[39mwith\u001b[39;00m config_context(\n\u001b[0;32m   1148\u001b[0m     skip_parameter_validation\u001b[39m=\u001b[39m(\n\u001b[0;32m   1149\u001b[0m         prefer_skip_nested_validation \u001b[39mor\u001b[39;00m global_skip_validation\n\u001b[0;32m   1150\u001b[0m     )\n\u001b[0;32m   1151\u001b[0m ):\n\u001b[1;32m-> 1152\u001b[0m     \u001b[39mreturn\u001b[39;00m fit_method(estimator, \u001b[39m*\u001b[39;49margs, \u001b[39m*\u001b[39;49m\u001b[39m*\u001b[39;49mkwargs)\n",
      "File \u001b[1;32md:\\pipeline_dados\\venv\\lib\\site-packages\\sklearn\\feature_selection\\_variance_threshold.py:99\u001b[0m, in \u001b[0;36mVarianceThreshold.fit\u001b[1;34m(self, X, y)\u001b[0m\n\u001b[0;32m     80\u001b[0m \u001b[39m@_fit_context\u001b[39m(prefer_skip_nested_validation\u001b[39m=\u001b[39m\u001b[39mTrue\u001b[39;00m)\n\u001b[0;32m     81\u001b[0m \u001b[39mdef\u001b[39;00m \u001b[39mfit\u001b[39m(\u001b[39mself\u001b[39m, X, y\u001b[39m=\u001b[39m\u001b[39mNone\u001b[39;00m):\n\u001b[0;32m     82\u001b[0m \u001b[39m    \u001b[39m\u001b[39m\"\"\"Learn empirical variances from X.\u001b[39;00m\n\u001b[0;32m     83\u001b[0m \n\u001b[0;32m     84\u001b[0m \u001b[39m    Parameters\u001b[39;00m\n\u001b[1;32m   (...)\u001b[0m\n\u001b[0;32m     97\u001b[0m \u001b[39m        Returns the instance itself.\u001b[39;00m\n\u001b[0;32m     98\u001b[0m \u001b[39m    \"\"\"\u001b[39;00m\n\u001b[1;32m---> 99\u001b[0m     X \u001b[39m=\u001b[39m \u001b[39mself\u001b[39;49m\u001b[39m.\u001b[39;49m_validate_data(\n\u001b[0;32m    100\u001b[0m         X,\n\u001b[0;32m    101\u001b[0m         accept_sparse\u001b[39m=\u001b[39;49m(\u001b[39m\"\u001b[39;49m\u001b[39mcsr\u001b[39;49m\u001b[39m\"\u001b[39;49m, \u001b[39m\"\u001b[39;49m\u001b[39mcsc\u001b[39;49m\u001b[39m\"\u001b[39;49m),\n\u001b[0;32m    102\u001b[0m         dtype\u001b[39m=\u001b[39;49mnp\u001b[39m.\u001b[39;49mfloat64,\n\u001b[0;32m    103\u001b[0m         force_all_finite\u001b[39m=\u001b[39;49m\u001b[39m\"\u001b[39;49m\u001b[39mallow-nan\u001b[39;49m\u001b[39m\"\u001b[39;49m,\n\u001b[0;32m    104\u001b[0m     )\n\u001b[0;32m    106\u001b[0m     \u001b[39mif\u001b[39;00m \u001b[39mhasattr\u001b[39m(X, \u001b[39m\"\u001b[39m\u001b[39mtoarray\u001b[39m\u001b[39m\"\u001b[39m):  \u001b[39m# sparse matrix\u001b[39;00m\n\u001b[0;32m    107\u001b[0m         _, \u001b[39mself\u001b[39m\u001b[39m.\u001b[39mvariances_ \u001b[39m=\u001b[39m mean_variance_axis(X, axis\u001b[39m=\u001b[39m\u001b[39m0\u001b[39m)\n",
      "File \u001b[1;32md:\\pipeline_dados\\venv\\lib\\site-packages\\sklearn\\base.py:605\u001b[0m, in \u001b[0;36mBaseEstimator._validate_data\u001b[1;34m(self, X, y, reset, validate_separately, cast_to_ndarray, **check_params)\u001b[0m\n\u001b[0;32m    603\u001b[0m         out \u001b[39m=\u001b[39m X, y\n\u001b[0;32m    604\u001b[0m \u001b[39melif\u001b[39;00m \u001b[39mnot\u001b[39;00m no_val_X \u001b[39mand\u001b[39;00m no_val_y:\n\u001b[1;32m--> 605\u001b[0m     out \u001b[39m=\u001b[39m check_array(X, input_name\u001b[39m=\u001b[39;49m\u001b[39m\"\u001b[39;49m\u001b[39mX\u001b[39;49m\u001b[39m\"\u001b[39;49m, \u001b[39m*\u001b[39;49m\u001b[39m*\u001b[39;49mcheck_params)\n\u001b[0;32m    606\u001b[0m \u001b[39melif\u001b[39;00m no_val_X \u001b[39mand\u001b[39;00m \u001b[39mnot\u001b[39;00m no_val_y:\n\u001b[0;32m    607\u001b[0m     out \u001b[39m=\u001b[39m _check_y(y, \u001b[39m*\u001b[39m\u001b[39m*\u001b[39mcheck_params)\n",
      "File \u001b[1;32md:\\pipeline_dados\\venv\\lib\\site-packages\\sklearn\\utils\\validation.py:930\u001b[0m, in \u001b[0;36mcheck_array\u001b[1;34m(array, accept_sparse, accept_large_sparse, dtype, order, copy, force_all_finite, ensure_2d, allow_nd, ensure_min_samples, ensure_min_features, estimator, input_name)\u001b[0m\n\u001b[0;32m    927\u001b[0m \u001b[39mif\u001b[39;00m ensure_2d:\n\u001b[0;32m    928\u001b[0m     \u001b[39m# If input is scalar raise error\u001b[39;00m\n\u001b[0;32m    929\u001b[0m     \u001b[39mif\u001b[39;00m array\u001b[39m.\u001b[39mndim \u001b[39m==\u001b[39m \u001b[39m0\u001b[39m:\n\u001b[1;32m--> 930\u001b[0m         \u001b[39mraise\u001b[39;00m \u001b[39mValueError\u001b[39;00m(\n\u001b[0;32m    931\u001b[0m             \u001b[39m\"\u001b[39m\u001b[39mExpected 2D array, got scalar array instead:\u001b[39m\u001b[39m\\n\u001b[39;00m\u001b[39marray=\u001b[39m\u001b[39m{}\u001b[39;00m\u001b[39m.\u001b[39m\u001b[39m\\n\u001b[39;00m\u001b[39m\"\u001b[39m\n\u001b[0;32m    932\u001b[0m             \u001b[39m\"\u001b[39m\u001b[39mReshape your data either using array.reshape(-1, 1) if \u001b[39m\u001b[39m\"\u001b[39m\n\u001b[0;32m    933\u001b[0m             \u001b[39m\"\u001b[39m\u001b[39myour data has a single feature or array.reshape(1, -1) \u001b[39m\u001b[39m\"\u001b[39m\n\u001b[0;32m    934\u001b[0m             \u001b[39m\"\u001b[39m\u001b[39mif it contains a single sample.\u001b[39m\u001b[39m\"\u001b[39m\u001b[39m.\u001b[39mformat(array)\n\u001b[0;32m    935\u001b[0m         )\n\u001b[0;32m    936\u001b[0m     \u001b[39m# If input is 1D raise error\u001b[39;00m\n\u001b[0;32m    937\u001b[0m     \u001b[39mif\u001b[39;00m array\u001b[39m.\u001b[39mndim \u001b[39m==\u001b[39m \u001b[39m1\u001b[39m:\n",
      "\u001b[1;31mValueError\u001b[0m: Expected 2D array, got scalar array instead:\narray=26247.837499999998.\nReshape your data either using array.reshape(-1, 1) if your data has a single feature or array.reshape(1, -1) if it contains a single sample."
     ]
    }
   ],
   "source": [
    "selecao = VarianceThreshold(threshold=5)\n",
    "X_selecao_variancia = selecao.fit_transform(col_variance)"
   ]
  },
  {
   "cell_type": "code",
   "execution_count": 34,
   "metadata": {},
   "outputs": [],
   "source": [
    "y_teste = x_teste_df['convertido']\n",
    "x_teste_df = x_teste_df.drop(['convertido', 'id_quote'], axis=1)\n",
    "\n",
    "categoricos = ['ds_tipo_obra', 'nm_prop_oportunidade', 'proprietario', 'promocional', 'tipo_loja',\n",
    "               'banheiro', 'toda_casa', 'cozinha', 'area_externa', 'itens_assentamento', 'sala',\n",
    "               'piscina', 'area_servico', 'garagem', 'dormitorio', 'varanda', 'escada', 'amb_outros']"
   ]
  },
  {
   "cell_type": "code",
   "execution_count": 35,
   "metadata": {},
   "outputs": [
    {
     "data": {
      "text/plain": [
       "30"
      ]
     },
     "execution_count": 35,
     "metadata": {},
     "output_type": "execute_result"
    }
   ],
   "source": [
    "len(x_teste_df.columns)"
   ]
  },
  {
   "cell_type": "code",
   "execution_count": 36,
   "metadata": {},
   "outputs": [
    {
     "name": "stdout",
     "output_type": "stream",
     "text": [
      "Removing date column: dt_criacao\n"
     ]
    },
    {
     "name": "stderr",
     "output_type": "stream",
     "text": [
      "d:\\pipeline_dados\\venv\\lib\\site-packages\\sklearn\\preprocessing\\_encoders.py:228: UserWarning: Found unknown categories in columns [1, 2] during transform. These unknown categories will be encoded as all zeros\n",
      "  warnings.warn(\n"
     ]
    }
   ],
   "source": [
    "\n",
    "\n",
    "date_column = 'dt_criacao'\n",
    "\n",
    "if date_column in base_treino.columns:\n",
    "    print(f\"Removing date column: {date_column}\")\n",
    "    base_treino = base_treino.drop(date_column, axis=1, errors='ignore')\n",
    "    if date_column in categoricos:\n",
    "        categoricos.remove(date_column)\n",
    "else:\n",
    "    print(f\"Date column '{date_column}' not found in the training data.\")\n",
    "\n",
    "if date_column in x_teste_df.columns:\n",
    "    x_teste_df = x_teste_df.drop(date_column, axis=1, errors='ignore')\n",
    "    if date_column in categoricos:\n",
    "        categoricos.remove(date_column)\n",
    "else:\n",
    "    print(f\"Date column '{date_column}' not found in the test data.\")\n",
    "\n",
    "X = base_treino.drop(['convertido'], axis=1, errors='ignore')\n",
    "y = base_treino['convertido']\n",
    "\n",
    "\n",
    "label_encoder = LabelEncoder()\n",
    "y = label_encoder.fit_transform(y)\n",
    "\n",
    "encoder = OneHotEncoder(drop='if_binary', handle_unknown='ignore')\n",
    "X_encoded = pd.DataFrame(encoder.fit_transform(X[categoricos]).toarray(),\n",
    "                          columns=encoder.get_feature_names_out(categoricos))\n",
    "\n",
    "X_final = pd.concat([X.drop(categoricos, axis=1), X_encoded], axis=1)\n",
    "\n",
    "X_test_encoded = pd.DataFrame(encoder.transform(x_teste_df[categoricos]).toarray(),\n",
    "                               columns=encoder.get_feature_names_out(categoricos))\n",
    "X_test_final = pd.concat([x_teste_df.drop('id_quote', axis=1, errors='ignore'), X_test_encoded], axis=1).drop(categoricos, axis=1).fillna(0)\n",
    "\n",
    "X = X.select_dtypes(exclude=['datetime64[ns]']) \n"
   ]
  },
  {
   "cell_type": "code",
   "execution_count": 37,
   "metadata": {},
   "outputs": [],
   "source": [
    "numeric_columns = X_final.select_dtypes(include=[np.number]).columns\n",
    "var_threshold = 0.15\n",
    "selector = VarianceThreshold(threshold=var_threshold)\n",
    "X_high_variance = selector.fit_transform(X_final[numeric_columns])\n",
    "\n",
    "selected_feature_indices = selector.get_support(indices=True)\n",
    "X_resampled = X_high_variance\n",
    "X_test_final = X_test_final.iloc[:, selected_feature_indices]\n",
    "\n",
    "smote = SMOTE(random_state=42)\n",
    "X_resampled, y_resampled = smote.fit_resample(X_resampled, y)"
   ]
  },
  {
   "cell_type": "code",
   "execution_count": 38,
   "metadata": {},
   "outputs": [
    {
     "data": {
      "text/plain": [
       "16"
      ]
     },
     "execution_count": 38,
     "metadata": {},
     "output_type": "execute_result"
    }
   ],
   "source": [
    "len(X_resampled[0])"
   ]
  },
  {
   "cell_type": "code",
   "execution_count": 39,
   "metadata": {},
   "outputs": [],
   "source": [
    "classifier = tf.keras.models.Sequential()\n",
    "\n",
    "\n",
    "classifier.add(tf.keras.layers.Dense(units=400, activation='relu', input_shape=(len(X_resampled[0]),)))\n",
    "classifier.add(tf.keras.layers.Dropout(0.2))\n",
    "\n",
    "classifier.add(tf.keras.layers.Dense(units=400, activation='relu'))\n",
    "classifier.add(tf.keras.layers.Dropout(0.2))\n",
    "\n",
    "classifier.add(tf.keras.layers.Dense(units=200, activation='relu'))\n",
    "classifier.add(tf.keras.layers.Dropout(0.2))\n",
    "\n",
    "classifier.add(tf.keras.layers.Dense(units=200, activation='relu'))\n",
    "classifier.add(tf.keras.layers.Dropout(0.2))\n",
    "\n",
    "classifier.add(tf.keras.layers.Dense(units=100, activation='relu'))\n",
    "classifier.add(tf.keras.layers.Dropout(0.2))\n",
    "\n",
    "classifier.add(tf.keras.layers.Dense(units=1, activation='sigmoid'))\n",
    "\n",
    "\n",
    "classifier.compile(optimizer='Adam', loss='binary_crossentropy', metrics=['accuracy'])\n"
   ]
  },
  {
   "cell_type": "code",
   "execution_count": 40,
   "metadata": {},
   "outputs": [
    {
     "name": "stdout",
     "output_type": "stream",
     "text": [
      "Model: \"sequential_1\"\n",
      "_________________________________________________________________\n",
      " Layer (type)                Output Shape              Param #   \n",
      "=================================================================\n",
      " dense_6 (Dense)             (None, 400)               6800      \n",
      "                                                                 \n",
      " dropout_5 (Dropout)         (None, 400)               0         \n",
      "                                                                 \n",
      " dense_7 (Dense)             (None, 400)               160400    \n",
      "                                                                 \n",
      " dropout_6 (Dropout)         (None, 400)               0         \n",
      "                                                                 \n",
      " dense_8 (Dense)             (None, 200)               80200     \n",
      "                                                                 \n",
      " dropout_7 (Dropout)         (None, 200)               0         \n",
      "                                                                 \n",
      " dense_9 (Dense)             (None, 200)               40200     \n",
      "                                                                 \n",
      " dropout_8 (Dropout)         (None, 200)               0         \n",
      "                                                                 \n",
      " dense_10 (Dense)            (None, 100)               20100     \n",
      "                                                                 \n",
      " dropout_9 (Dropout)         (None, 100)               0         \n",
      "                                                                 \n",
      " dense_11 (Dense)            (None, 1)                 101       \n",
      "                                                                 \n",
      "=================================================================\n",
      "Total params: 307801 (1.17 MB)\n",
      "Trainable params: 307801 (1.17 MB)\n",
      "Non-trainable params: 0 (0.00 Byte)\n",
      "_________________________________________________________________\n"
     ]
    }
   ],
   "source": [
    "classifier.summary()"
   ]
  },
  {
   "cell_type": "code",
   "execution_count": 41,
   "metadata": {},
   "outputs": [],
   "source": [
    "classifier.compile(optimizer='Adam', loss='binary_crossentropy', metrics = ['accuracy'])"
   ]
  },
  {
   "cell_type": "code",
   "execution_count": 42,
   "metadata": {},
   "outputs": [
    {
     "name": "stdout",
     "output_type": "stream",
     "text": [
      "Epoch 1/200\n",
      "179/179 [==============================] - 2s 4ms/step - loss: 21.3227 - accuracy: 0.5367\n",
      "Epoch 2/200\n",
      "179/179 [==============================] - 1s 4ms/step - loss: 3.7772 - accuracy: 0.5641\n",
      "Epoch 3/200\n",
      "179/179 [==============================] - 1s 4ms/step - loss: 1.1843 - accuracy: 0.5704\n",
      "Epoch 4/200\n",
      "179/179 [==============================] - 1s 4ms/step - loss: 0.8988 - accuracy: 0.5930\n",
      "Epoch 5/200\n",
      "179/179 [==============================] - 1s 4ms/step - loss: 0.7173 - accuracy: 0.5835\n",
      "Epoch 6/200\n",
      "179/179 [==============================] - 1s 4ms/step - loss: 0.7551 - accuracy: 0.5814\n",
      "Epoch 7/200\n",
      "179/179 [==============================] - 1s 4ms/step - loss: 0.6987 - accuracy: 0.5844\n",
      "Epoch 8/200\n",
      "179/179 [==============================] - 1s 5ms/step - loss: 0.7019 - accuracy: 0.6120\n",
      "Epoch 9/200\n",
      "179/179 [==============================] - 1s 4ms/step - loss: 0.6795 - accuracy: 0.6026\n",
      "Epoch 10/200\n",
      "179/179 [==============================] - 1s 4ms/step - loss: 0.6676 - accuracy: 0.6122\n",
      "Epoch 11/200\n",
      "179/179 [==============================] - 1s 5ms/step - loss: 0.6659 - accuracy: 0.6227\n",
      "Epoch 12/200\n",
      "179/179 [==============================] - 1s 5ms/step - loss: 0.6667 - accuracy: 0.6342\n",
      "Epoch 13/200\n",
      "179/179 [==============================] - 1s 5ms/step - loss: 0.6662 - accuracy: 0.6279\n",
      "Epoch 14/200\n",
      "179/179 [==============================] - 1s 5ms/step - loss: 0.6596 - accuracy: 0.6314\n",
      "Epoch 15/200\n",
      "179/179 [==============================] - 1s 4ms/step - loss: 0.6528 - accuracy: 0.6309\n",
      "Epoch 16/200\n",
      "179/179 [==============================] - 1s 5ms/step - loss: 0.6533 - accuracy: 0.6384\n",
      "Epoch 17/200\n",
      "179/179 [==============================] - 1s 4ms/step - loss: 0.6572 - accuracy: 0.6433\n",
      "Epoch 18/200\n",
      "179/179 [==============================] - 1s 4ms/step - loss: 0.6612 - accuracy: 0.6386\n",
      "Epoch 19/200\n",
      "179/179 [==============================] - 1s 4ms/step - loss: 0.6474 - accuracy: 0.6473\n",
      "Epoch 20/200\n",
      "179/179 [==============================] - 1s 4ms/step - loss: 0.6540 - accuracy: 0.6396\n",
      "Epoch 21/200\n",
      "179/179 [==============================] - 1s 4ms/step - loss: 0.6514 - accuracy: 0.6463\n",
      "Epoch 22/200\n",
      "179/179 [==============================] - 1s 4ms/step - loss: 0.6555 - accuracy: 0.6402\n",
      "Epoch 23/200\n",
      "179/179 [==============================] - 1s 5ms/step - loss: 0.6434 - accuracy: 0.6484\n",
      "Epoch 24/200\n",
      "179/179 [==============================] - 1s 5ms/step - loss: 0.6518 - accuracy: 0.6430\n",
      "Epoch 25/200\n",
      "179/179 [==============================] - 1s 5ms/step - loss: 0.6407 - accuracy: 0.6473\n",
      "Epoch 26/200\n",
      "179/179 [==============================] - 1s 5ms/step - loss: 0.6398 - accuracy: 0.6468\n",
      "Epoch 27/200\n",
      "179/179 [==============================] - 1s 4ms/step - loss: 0.6402 - accuracy: 0.6485\n",
      "Epoch 28/200\n",
      "179/179 [==============================] - 1s 4ms/step - loss: 0.6415 - accuracy: 0.6498\n",
      "Epoch 29/200\n",
      "179/179 [==============================] - 1s 4ms/step - loss: 0.6367 - accuracy: 0.6485\n",
      "Epoch 30/200\n",
      "179/179 [==============================] - 1s 4ms/step - loss: 0.6391 - accuracy: 0.6484\n",
      "Epoch 31/200\n",
      "179/179 [==============================] - 1s 4ms/step - loss: 0.6398 - accuracy: 0.6503\n",
      "Epoch 32/200\n",
      "179/179 [==============================] - 1s 4ms/step - loss: 0.6513 - accuracy: 0.6475\n",
      "Epoch 33/200\n",
      "179/179 [==============================] - 1s 4ms/step - loss: 0.6402 - accuracy: 0.6520\n",
      "Epoch 34/200\n",
      "179/179 [==============================] - 1s 4ms/step - loss: 0.6431 - accuracy: 0.6491\n",
      "Epoch 35/200\n",
      "179/179 [==============================] - 1s 4ms/step - loss: 0.6421 - accuracy: 0.6513\n",
      "Epoch 36/200\n",
      "179/179 [==============================] - 1s 4ms/step - loss: 0.6458 - accuracy: 0.6445\n",
      "Epoch 37/200\n",
      "179/179 [==============================] - 1s 4ms/step - loss: 0.6488 - accuracy: 0.6531\n",
      "Epoch 38/200\n",
      "179/179 [==============================] - 1s 4ms/step - loss: 0.6400 - accuracy: 0.6541\n",
      "Epoch 39/200\n",
      "179/179 [==============================] - 1s 4ms/step - loss: 0.6338 - accuracy: 0.6566\n",
      "Epoch 40/200\n",
      "179/179 [==============================] - 1s 4ms/step - loss: 0.6285 - accuracy: 0.6594\n",
      "Epoch 41/200\n",
      "179/179 [==============================] - 1s 6ms/step - loss: 0.6323 - accuracy: 0.6566\n",
      "Epoch 42/200\n",
      "179/179 [==============================] - 1s 5ms/step - loss: 0.6305 - accuracy: 0.6611\n",
      "Epoch 43/200\n",
      "179/179 [==============================] - 1s 5ms/step - loss: 0.6322 - accuracy: 0.6573\n",
      "Epoch 44/200\n",
      "179/179 [==============================] - 1s 4ms/step - loss: 0.6311 - accuracy: 0.6562\n",
      "Epoch 45/200\n",
      "179/179 [==============================] - 1s 5ms/step - loss: 0.6333 - accuracy: 0.6578\n",
      "Epoch 46/200\n",
      "179/179 [==============================] - 1s 5ms/step - loss: 0.6344 - accuracy: 0.6568\n",
      "Epoch 47/200\n",
      "179/179 [==============================] - 1s 5ms/step - loss: 0.6350 - accuracy: 0.6597\n",
      "Epoch 48/200\n",
      "179/179 [==============================] - 1s 5ms/step - loss: 0.6333 - accuracy: 0.6498\n",
      "Epoch 49/200\n",
      "179/179 [==============================] - 1s 4ms/step - loss: 0.6275 - accuracy: 0.6627\n",
      "Epoch 50/200\n",
      "179/179 [==============================] - 1s 4ms/step - loss: 0.6355 - accuracy: 0.6541\n",
      "Epoch 51/200\n",
      "179/179 [==============================] - 1s 4ms/step - loss: 0.6324 - accuracy: 0.6580\n",
      "Epoch 52/200\n",
      "179/179 [==============================] - 1s 4ms/step - loss: 0.6285 - accuracy: 0.6576\n",
      "Epoch 53/200\n",
      "179/179 [==============================] - 1s 4ms/step - loss: 0.6368 - accuracy: 0.6583\n",
      "Epoch 54/200\n",
      "179/179 [==============================] - 1s 4ms/step - loss: 0.6289 - accuracy: 0.6583\n",
      "Epoch 55/200\n",
      "179/179 [==============================] - 1s 4ms/step - loss: 0.6261 - accuracy: 0.6634\n",
      "Epoch 56/200\n",
      "179/179 [==============================] - 1s 4ms/step - loss: 0.6276 - accuracy: 0.6606\n",
      "Epoch 57/200\n",
      "179/179 [==============================] - 1s 4ms/step - loss: 0.6286 - accuracy: 0.6618\n",
      "Epoch 58/200\n",
      "179/179 [==============================] - 1s 4ms/step - loss: 0.6249 - accuracy: 0.6662\n",
      "Epoch 59/200\n",
      "179/179 [==============================] - 1s 4ms/step - loss: 0.6397 - accuracy: 0.6555\n",
      "Epoch 60/200\n",
      "179/179 [==============================] - 1s 4ms/step - loss: 0.6394 - accuracy: 0.6608\n",
      "Epoch 61/200\n",
      "179/179 [==============================] - 1s 4ms/step - loss: 0.6318 - accuracy: 0.6615\n",
      "Epoch 62/200\n",
      "179/179 [==============================] - 1s 4ms/step - loss: 0.6304 - accuracy: 0.6617\n",
      "Epoch 63/200\n",
      "179/179 [==============================] - 1s 4ms/step - loss: 0.6266 - accuracy: 0.6636\n",
      "Epoch 64/200\n",
      "179/179 [==============================] - 1s 4ms/step - loss: 0.6281 - accuracy: 0.6629\n",
      "Epoch 65/200\n",
      "179/179 [==============================] - 1s 4ms/step - loss: 0.6297 - accuracy: 0.6624\n",
      "Epoch 66/200\n",
      "179/179 [==============================] - 1s 4ms/step - loss: 0.6293 - accuracy: 0.6643\n",
      "Epoch 67/200\n",
      "179/179 [==============================] - 1s 4ms/step - loss: 0.6295 - accuracy: 0.6624\n",
      "Epoch 68/200\n",
      "179/179 [==============================] - 1s 4ms/step - loss: 0.6262 - accuracy: 0.6618\n",
      "Epoch 69/200\n",
      "179/179 [==============================] - 1s 4ms/step - loss: 0.7863 - accuracy: 0.6576\n",
      "Epoch 70/200\n",
      "179/179 [==============================] - 1s 4ms/step - loss: 0.6425 - accuracy: 0.6583\n",
      "Epoch 71/200\n",
      "179/179 [==============================] - 1s 4ms/step - loss: 0.6301 - accuracy: 0.6568\n",
      "Epoch 72/200\n",
      "179/179 [==============================] - 1s 4ms/step - loss: 0.6304 - accuracy: 0.6585\n",
      "Epoch 73/200\n",
      "179/179 [==============================] - 1s 4ms/step - loss: 0.6450 - accuracy: 0.6505\n",
      "Epoch 74/200\n",
      "179/179 [==============================] - 1s 4ms/step - loss: 0.6310 - accuracy: 0.6578\n",
      "Epoch 75/200\n",
      "179/179 [==============================] - 1s 4ms/step - loss: 0.6261 - accuracy: 0.6627\n",
      "Epoch 76/200\n",
      "179/179 [==============================] - 1s 4ms/step - loss: 0.6209 - accuracy: 0.6660\n",
      "Epoch 77/200\n",
      "179/179 [==============================] - 1s 4ms/step - loss: 0.6302 - accuracy: 0.6561\n",
      "Epoch 78/200\n",
      "179/179 [==============================] - 1s 4ms/step - loss: 0.6275 - accuracy: 0.6641\n",
      "Epoch 79/200\n",
      "179/179 [==============================] - 1s 6ms/step - loss: 0.6310 - accuracy: 0.6606\n",
      "Epoch 80/200\n",
      "179/179 [==============================] - 1s 6ms/step - loss: 0.6373 - accuracy: 0.6597\n",
      "Epoch 81/200\n",
      "179/179 [==============================] - 1s 6ms/step - loss: 0.6313 - accuracy: 0.6634\n",
      "Epoch 82/200\n",
      "179/179 [==============================] - 1s 6ms/step - loss: 0.6450 - accuracy: 0.6638\n",
      "Epoch 83/200\n",
      "179/179 [==============================] - 1s 6ms/step - loss: 0.6281 - accuracy: 0.6631\n",
      "Epoch 84/200\n",
      "179/179 [==============================] - 1s 4ms/step - loss: 0.6240 - accuracy: 0.6645\n",
      "Epoch 85/200\n",
      "179/179 [==============================] - 1s 4ms/step - loss: 0.6224 - accuracy: 0.6697\n",
      "Epoch 86/200\n",
      "179/179 [==============================] - 1s 4ms/step - loss: 0.6211 - accuracy: 0.6711\n",
      "Epoch 87/200\n",
      "179/179 [==============================] - 1s 4ms/step - loss: 0.6291 - accuracy: 0.6629\n",
      "Epoch 88/200\n",
      "179/179 [==============================] - 1s 4ms/step - loss: 0.6247 - accuracy: 0.6664\n",
      "Epoch 89/200\n",
      "179/179 [==============================] - 1s 4ms/step - loss: 0.6243 - accuracy: 0.6634\n",
      "Epoch 90/200\n",
      "179/179 [==============================] - 1s 4ms/step - loss: 0.6243 - accuracy: 0.6679\n",
      "Epoch 91/200\n",
      "179/179 [==============================] - 1s 4ms/step - loss: 0.6279 - accuracy: 0.6606\n",
      "Epoch 92/200\n",
      "179/179 [==============================] - 1s 4ms/step - loss: 0.6227 - accuracy: 0.6676\n",
      "Epoch 93/200\n",
      "179/179 [==============================] - 1s 4ms/step - loss: 0.6228 - accuracy: 0.6672\n",
      "Epoch 94/200\n",
      "179/179 [==============================] - 1s 4ms/step - loss: 0.6241 - accuracy: 0.6723\n",
      "Epoch 95/200\n",
      "179/179 [==============================] - 1s 4ms/step - loss: 0.6215 - accuracy: 0.6741\n",
      "Epoch 96/200\n",
      "179/179 [==============================] - 1s 4ms/step - loss: 0.6235 - accuracy: 0.6659\n",
      "Epoch 97/200\n",
      "179/179 [==============================] - 1s 4ms/step - loss: 0.6931 - accuracy: 0.6669\n",
      "Epoch 98/200\n",
      "179/179 [==============================] - 1s 4ms/step - loss: 0.6273 - accuracy: 0.6634\n",
      "Epoch 99/200\n",
      "179/179 [==============================] - 1s 4ms/step - loss: 0.6241 - accuracy: 0.6700\n",
      "Epoch 100/200\n",
      "179/179 [==============================] - 1s 4ms/step - loss: 0.6219 - accuracy: 0.6664\n",
      "Epoch 101/200\n",
      "179/179 [==============================] - 1s 4ms/step - loss: 0.6245 - accuracy: 0.6664\n",
      "Epoch 102/200\n",
      "179/179 [==============================] - 1s 4ms/step - loss: 0.6208 - accuracy: 0.6672\n",
      "Epoch 103/200\n",
      "179/179 [==============================] - 1s 4ms/step - loss: 0.6193 - accuracy: 0.6732\n",
      "Epoch 104/200\n",
      "179/179 [==============================] - 1s 4ms/step - loss: 0.6195 - accuracy: 0.6676\n",
      "Epoch 105/200\n",
      "179/179 [==============================] - 1s 4ms/step - loss: 0.6229 - accuracy: 0.6686\n",
      "Epoch 106/200\n",
      "179/179 [==============================] - 1s 4ms/step - loss: 0.6183 - accuracy: 0.6713\n",
      "Epoch 107/200\n",
      "179/179 [==============================] - 1s 4ms/step - loss: 0.6138 - accuracy: 0.6718\n",
      "Epoch 108/200\n",
      "179/179 [==============================] - 1s 4ms/step - loss: 0.6183 - accuracy: 0.6688\n",
      "Epoch 109/200\n",
      "179/179 [==============================] - 1s 4ms/step - loss: 0.6228 - accuracy: 0.6709\n",
      "Epoch 110/200\n",
      "179/179 [==============================] - 1s 4ms/step - loss: 0.6218 - accuracy: 0.6688\n",
      "Epoch 111/200\n",
      "179/179 [==============================] - 1s 5ms/step - loss: 0.6170 - accuracy: 0.6734\n",
      "Epoch 112/200\n",
      "179/179 [==============================] - 1s 4ms/step - loss: 0.6172 - accuracy: 0.6748\n",
      "Epoch 113/200\n",
      "179/179 [==============================] - 1s 4ms/step - loss: 0.6302 - accuracy: 0.6653\n",
      "Epoch 114/200\n",
      "179/179 [==============================] - 1s 4ms/step - loss: 0.6291 - accuracy: 0.6709\n",
      "Epoch 115/200\n",
      "179/179 [==============================] - 1s 4ms/step - loss: 0.6152 - accuracy: 0.6749\n",
      "Epoch 116/200\n",
      "179/179 [==============================] - 1s 4ms/step - loss: 0.6287 - accuracy: 0.6676\n",
      "Epoch 117/200\n",
      "179/179 [==============================] - 1s 4ms/step - loss: 0.6189 - accuracy: 0.6692\n",
      "Epoch 118/200\n",
      "179/179 [==============================] - 1s 4ms/step - loss: 0.6180 - accuracy: 0.6807\n",
      "Epoch 119/200\n",
      "179/179 [==============================] - 1s 4ms/step - loss: 0.6161 - accuracy: 0.6748\n",
      "Epoch 120/200\n",
      "179/179 [==============================] - 1s 4ms/step - loss: 0.6176 - accuracy: 0.6693\n",
      "Epoch 121/200\n",
      "179/179 [==============================] - 1s 4ms/step - loss: 0.6168 - accuracy: 0.6711\n",
      "Epoch 122/200\n",
      "179/179 [==============================] - 1s 4ms/step - loss: 0.6165 - accuracy: 0.6760\n",
      "Epoch 123/200\n",
      "179/179 [==============================] - 1s 4ms/step - loss: 0.6175 - accuracy: 0.6713\n",
      "Epoch 124/200\n",
      "179/179 [==============================] - 1s 4ms/step - loss: 0.6150 - accuracy: 0.6797\n",
      "Epoch 125/200\n",
      "179/179 [==============================] - 1s 4ms/step - loss: 0.6183 - accuracy: 0.6758\n",
      "Epoch 126/200\n",
      "179/179 [==============================] - 1s 4ms/step - loss: 0.6108 - accuracy: 0.6781\n",
      "Epoch 127/200\n",
      "179/179 [==============================] - 1s 4ms/step - loss: 0.6157 - accuracy: 0.6697\n",
      "Epoch 128/200\n",
      "179/179 [==============================] - 1s 4ms/step - loss: 0.6194 - accuracy: 0.6730\n",
      "Epoch 129/200\n",
      "179/179 [==============================] - 1s 4ms/step - loss: 0.6159 - accuracy: 0.6737\n",
      "Epoch 130/200\n",
      "179/179 [==============================] - 1s 4ms/step - loss: 0.6124 - accuracy: 0.6758\n",
      "Epoch 131/200\n",
      "179/179 [==============================] - 1s 5ms/step - loss: 0.6131 - accuracy: 0.6742\n",
      "Epoch 132/200\n",
      "179/179 [==============================] - 1s 6ms/step - loss: 0.6239 - accuracy: 0.6753\n",
      "Epoch 133/200\n",
      "179/179 [==============================] - 1s 6ms/step - loss: 0.6188 - accuracy: 0.6671\n",
      "Epoch 134/200\n",
      "179/179 [==============================] - 1s 6ms/step - loss: 0.6142 - accuracy: 0.6725\n",
      "Epoch 135/200\n",
      "179/179 [==============================] - 1s 6ms/step - loss: 0.6104 - accuracy: 0.6816\n",
      "Epoch 136/200\n",
      "179/179 [==============================] - 1s 6ms/step - loss: 0.6152 - accuracy: 0.6728\n",
      "Epoch 137/200\n",
      "179/179 [==============================] - 1s 6ms/step - loss: 0.6216 - accuracy: 0.6765\n",
      "Epoch 138/200\n",
      "179/179 [==============================] - 1s 6ms/step - loss: 0.6180 - accuracy: 0.6786\n",
      "Epoch 139/200\n",
      "179/179 [==============================] - 1s 6ms/step - loss: 0.6113 - accuracy: 0.6770\n",
      "Epoch 140/200\n",
      "179/179 [==============================] - 1s 6ms/step - loss: 0.6175 - accuracy: 0.6765\n",
      "Epoch 141/200\n",
      "179/179 [==============================] - 1s 6ms/step - loss: 0.6120 - accuracy: 0.6786\n",
      "Epoch 142/200\n",
      "179/179 [==============================] - 1s 6ms/step - loss: 0.6069 - accuracy: 0.6805\n",
      "Epoch 143/200\n",
      "179/179 [==============================] - 1s 6ms/step - loss: 0.6246 - accuracy: 0.6811\n",
      "Epoch 144/200\n",
      "179/179 [==============================] - 1s 6ms/step - loss: 0.6080 - accuracy: 0.6793\n",
      "Epoch 145/200\n",
      "179/179 [==============================] - 1s 6ms/step - loss: 0.6136 - accuracy: 0.6791\n",
      "Epoch 146/200\n",
      "179/179 [==============================] - 1s 6ms/step - loss: 0.6118 - accuracy: 0.6739\n",
      "Epoch 147/200\n",
      "179/179 [==============================] - 1s 6ms/step - loss: 0.6095 - accuracy: 0.6746\n",
      "Epoch 148/200\n",
      "179/179 [==============================] - 1s 6ms/step - loss: 0.6321 - accuracy: 0.6748\n",
      "Epoch 149/200\n",
      "179/179 [==============================] - 1s 6ms/step - loss: 0.6196 - accuracy: 0.6699\n",
      "Epoch 150/200\n",
      "179/179 [==============================] - 1s 6ms/step - loss: 0.6111 - accuracy: 0.6798\n",
      "Epoch 151/200\n",
      "179/179 [==============================] - 1s 6ms/step - loss: 0.6287 - accuracy: 0.6791\n",
      "Epoch 152/200\n",
      "179/179 [==============================] - 1s 6ms/step - loss: 0.6111 - accuracy: 0.6746\n",
      "Epoch 153/200\n",
      "179/179 [==============================] - 1s 6ms/step - loss: 0.6128 - accuracy: 0.6762\n",
      "Epoch 154/200\n",
      "179/179 [==============================] - 1s 6ms/step - loss: 0.6109 - accuracy: 0.6823\n",
      "Epoch 155/200\n",
      "179/179 [==============================] - 1s 6ms/step - loss: 0.6459 - accuracy: 0.6790\n",
      "Epoch 156/200\n",
      "179/179 [==============================] - 1s 6ms/step - loss: 0.7967 - accuracy: 0.6732\n",
      "Epoch 157/200\n",
      "179/179 [==============================] - 1s 6ms/step - loss: 0.6131 - accuracy: 0.6749\n",
      "Epoch 158/200\n",
      "179/179 [==============================] - 1s 5ms/step - loss: 0.6130 - accuracy: 0.6802\n",
      "Epoch 159/200\n",
      "179/179 [==============================] - 1s 4ms/step - loss: 0.6083 - accuracy: 0.6798\n",
      "Epoch 160/200\n",
      "179/179 [==============================] - 1s 4ms/step - loss: 0.6092 - accuracy: 0.6793\n",
      "Epoch 161/200\n",
      "179/179 [==============================] - 1s 4ms/step - loss: 0.6053 - accuracy: 0.6844\n",
      "Epoch 162/200\n",
      "179/179 [==============================] - 1s 4ms/step - loss: 0.6046 - accuracy: 0.6819\n",
      "Epoch 163/200\n",
      "179/179 [==============================] - 1s 4ms/step - loss: 0.6042 - accuracy: 0.6852\n",
      "Epoch 164/200\n",
      "179/179 [==============================] - 1s 4ms/step - loss: 0.6106 - accuracy: 0.6870\n",
      "Epoch 165/200\n",
      "179/179 [==============================] - 1s 4ms/step - loss: 0.6065 - accuracy: 0.6751\n",
      "Epoch 166/200\n",
      "179/179 [==============================] - 1s 4ms/step - loss: 0.6071 - accuracy: 0.6762\n",
      "Epoch 167/200\n",
      "179/179 [==============================] - 1s 4ms/step - loss: 0.6074 - accuracy: 0.6833\n",
      "Epoch 168/200\n",
      "179/179 [==============================] - 1s 4ms/step - loss: 0.6068 - accuracy: 0.6793\n",
      "Epoch 169/200\n",
      "179/179 [==============================] - 1s 4ms/step - loss: 0.6051 - accuracy: 0.6784\n",
      "Epoch 170/200\n",
      "179/179 [==============================] - 1s 4ms/step - loss: 0.5997 - accuracy: 0.6889\n",
      "Epoch 171/200\n",
      "179/179 [==============================] - 1s 4ms/step - loss: 0.6199 - accuracy: 0.6779\n",
      "Epoch 172/200\n",
      "179/179 [==============================] - 1s 4ms/step - loss: 0.6114 - accuracy: 0.6765\n",
      "Epoch 173/200\n",
      "179/179 [==============================] - 1s 4ms/step - loss: 0.6069 - accuracy: 0.6777\n",
      "Epoch 174/200\n",
      "179/179 [==============================] - 1s 4ms/step - loss: 0.6083 - accuracy: 0.6755\n",
      "Epoch 175/200\n",
      "179/179 [==============================] - 1s 4ms/step - loss: 0.6127 - accuracy: 0.6735\n",
      "Epoch 176/200\n",
      "179/179 [==============================] - 1s 4ms/step - loss: 0.6217 - accuracy: 0.6814\n",
      "Epoch 177/200\n",
      "179/179 [==============================] - 1s 4ms/step - loss: 0.6160 - accuracy: 0.6798\n",
      "Epoch 178/200\n",
      "179/179 [==============================] - 1s 4ms/step - loss: 0.6127 - accuracy: 0.6758\n",
      "Epoch 179/200\n",
      "179/179 [==============================] - 1s 4ms/step - loss: 0.6058 - accuracy: 0.6795\n",
      "Epoch 180/200\n",
      "179/179 [==============================] - 1s 4ms/step - loss: 0.6020 - accuracy: 0.6797\n",
      "Epoch 181/200\n",
      "179/179 [==============================] - 1s 4ms/step - loss: 0.6067 - accuracy: 0.6762\n",
      "Epoch 182/200\n",
      "179/179 [==============================] - 1s 4ms/step - loss: 0.6052 - accuracy: 0.6804\n",
      "Epoch 183/200\n",
      "179/179 [==============================] - 1s 4ms/step - loss: 0.6049 - accuracy: 0.6812\n",
      "Epoch 184/200\n",
      "179/179 [==============================] - 1s 4ms/step - loss: 0.6076 - accuracy: 0.6800\n",
      "Epoch 185/200\n",
      "179/179 [==============================] - 1s 4ms/step - loss: 0.6054 - accuracy: 0.6839\n",
      "Epoch 186/200\n",
      "179/179 [==============================] - 1s 4ms/step - loss: 0.6060 - accuracy: 0.6826\n",
      "Epoch 187/200\n",
      "179/179 [==============================] - 1s 4ms/step - loss: 0.6015 - accuracy: 0.6844\n",
      "Epoch 188/200\n",
      "179/179 [==============================] - 1s 4ms/step - loss: 0.6101 - accuracy: 0.6758\n",
      "Epoch 189/200\n",
      "179/179 [==============================] - 1s 4ms/step - loss: 0.6086 - accuracy: 0.6816\n",
      "Epoch 190/200\n",
      "179/179 [==============================] - 1s 4ms/step - loss: 0.6073 - accuracy: 0.6805\n",
      "Epoch 191/200\n",
      "179/179 [==============================] - 1s 4ms/step - loss: 0.6070 - accuracy: 0.6835\n",
      "Epoch 192/200\n",
      "179/179 [==============================] - 1s 4ms/step - loss: 0.6202 - accuracy: 0.6861\n",
      "Epoch 193/200\n",
      "179/179 [==============================] - 1s 4ms/step - loss: 0.6137 - accuracy: 0.6825\n",
      "Epoch 194/200\n",
      "179/179 [==============================] - 1s 4ms/step - loss: 0.6063 - accuracy: 0.6807\n",
      "Epoch 195/200\n",
      "179/179 [==============================] - 1s 4ms/step - loss: 0.6065 - accuracy: 0.6790\n",
      "Epoch 196/200\n",
      "179/179 [==============================] - 1s 4ms/step - loss: 0.6019 - accuracy: 0.6828\n",
      "Epoch 197/200\n",
      "179/179 [==============================] - 1s 4ms/step - loss: 0.6201 - accuracy: 0.6818\n",
      "Epoch 198/200\n",
      "179/179 [==============================] - 1s 4ms/step - loss: 0.6088 - accuracy: 0.6821\n",
      "Epoch 199/200\n",
      "179/179 [==============================] - 1s 4ms/step - loss: 0.6131 - accuracy: 0.6839\n",
      "Epoch 200/200\n",
      "179/179 [==============================] - 1s 5ms/step - loss: 0.5997 - accuracy: 0.6868\n"
     ]
    }
   ],
   "source": [
    "epochs_hist = classifier.fit(X_resampled, y_resampled , epochs = 200)"
   ]
  },
  {
   "cell_type": "code",
   "execution_count": 43,
   "metadata": {},
   "outputs": [
    {
     "name": "stdout",
     "output_type": "stream",
     "text": [
      "179/179 [==============================] - 0s 1ms/step\n"
     ]
    }
   ],
   "source": [
    "y_pred = classifier.predict(X_resampled)"
   ]
  },
  {
   "cell_type": "code",
   "execution_count": 44,
   "metadata": {},
   "outputs": [
    {
     "name": "stdout",
     "output_type": "stream",
     "text": [
      "179/179 [==============================] - 0s 1ms/step\n"
     ]
    }
   ],
   "source": [
    "probabilities_teste = classifier.predict(X_resampled)\n",
    "\n",
    "\n",
    "predicted_probabilities_positive_class = probabilities_teste[:, 0]\n",
    "\n",
    "\n",
    "predicted_labels = (probabilities_teste > 0.5).astype(int)"
   ]
  },
  {
   "cell_type": "code",
   "execution_count": 45,
   "metadata": {},
   "outputs": [
    {
     "data": {
      "text/plain": [
       "array([[0.35494614],\n",
       "       [0.7783935 ],\n",
       "       [0.35494614],\n",
       "       ...,\n",
       "       [0.5244359 ],\n",
       "       [0.39627373],\n",
       "       [0.7356435 ]], dtype=float32)"
      ]
     },
     "execution_count": 45,
     "metadata": {},
     "output_type": "execute_result"
    }
   ],
   "source": [
    "y_pred"
   ]
  },
  {
   "cell_type": "code",
   "execution_count": 46,
   "metadata": {},
   "outputs": [
    {
     "data": {
      "text/plain": [
       "array([0, 1, 0, ..., 1, 1, 1])"
      ]
     },
     "execution_count": 46,
     "metadata": {},
     "output_type": "execute_result"
    }
   ],
   "source": [
    "y_resampled"
   ]
  },
  {
   "cell_type": "code",
   "execution_count": 47,
   "metadata": {},
   "outputs": [
    {
     "data": {
      "text/plain": [
       "dict_keys(['loss', 'accuracy'])"
      ]
     },
     "execution_count": 47,
     "metadata": {},
     "output_type": "execute_result"
    }
   ],
   "source": [
    "epochs_hist.history.keys()"
   ]
  },
  {
   "cell_type": "code",
   "execution_count": 48,
   "metadata": {},
   "outputs": [
    {
     "data": {
      "image/png": "[encoded data removed]",
      "text/plain": [
       "<Figure size 640x480 with 1 Axes>"
      ]
     },
     "metadata": {},
     "output_type": "display_data"
    }
   ],
   "source": [
    "plt.plot(epochs_hist.history['loss'])\n",
    "plt.title('Model Loss Progress During Training')\n",
    "plt.xlabel('Epoch')\n",
    "plt.ylabel('Training and Validation Loss')\n",
    "plt.legend(['Training Loss']);"
   ]
  },
  {
   "cell_type": "code",
   "execution_count": 53,
   "metadata": {},
   "outputs": [
    {
     "name": "stdout",
     "output_type": "stream",
     "text": [
      "8/8 [==============================] - 0s 1ms/step\n"
     ]
    },
    {
     "data": {
      "text/html": [
       "<div>\n",
       "<style scoped>\n",
       "    .dataframe tbody tr th:only-of-type {\n",
       "        vertical-align: middle;\n",
       "    }\n",
       "\n",
       "    .dataframe tbody tr th {\n",
       "        vertical-align: top;\n",
       "    }\n",
       "\n",
       "    .dataframe thead th {\n",
       "        text-align: right;\n",
       "    }\n",
       "</style>\n",
       "<table border=\"1\" class=\"dataframe\">\n",
       "  <thead>\n",
       "    <tr style=\"text-align: right;\">\n",
       "      <th></th>\n",
       "      <th>nm_prop_oportunidade</th>\n",
       "      <th>convertido</th>\n",
       "      <th>probabilidade_conversao</th>\n",
       "    </tr>\n",
       "  </thead>\n",
       "  <tbody>\n",
       "    <tr>\n",
       "      <th>0</th>\n",
       "      <td>adryson pinto freitas</td>\n",
       "      <td>S</td>\n",
       "      <td>0.676156</td>\n",
       "    </tr>\n",
       "    <tr>\n",
       "      <th>1</th>\n",
       "      <td>ediane rosa</td>\n",
       "      <td>S</td>\n",
       "      <td>0.354946</td>\n",
       "    </tr>\n",
       "    <tr>\n",
       "      <th>2</th>\n",
       "      <td>fabiano martins werutsky</td>\n",
       "      <td>S</td>\n",
       "      <td>0.527610</td>\n",
       "    </tr>\n",
       "    <tr>\n",
       "      <th>3</th>\n",
       "      <td>felipe pedroso alves</td>\n",
       "      <td>S</td>\n",
       "      <td>0.354946</td>\n",
       "    </tr>\n",
       "    <tr>\n",
       "      <th>4</th>\n",
       "      <td>juliana westphalen gonçalves</td>\n",
       "      <td>N</td>\n",
       "      <td>0.531837</td>\n",
       "    </tr>\n",
       "    <tr>\n",
       "      <th>5</th>\n",
       "      <td>matheus homrich</td>\n",
       "      <td>S</td>\n",
       "      <td>0.354946</td>\n",
       "    </tr>\n",
       "    <tr>\n",
       "      <th>6</th>\n",
       "      <td>michelle costa malta</td>\n",
       "      <td>N</td>\n",
       "      <td>0.354946</td>\n",
       "    </tr>\n",
       "    <tr>\n",
       "      <th>7</th>\n",
       "      <td>rafaela de sousa paonessa loureiro</td>\n",
       "      <td>S</td>\n",
       "      <td>0.727105</td>\n",
       "    </tr>\n",
       "  </tbody>\n",
       "</table>\n",
       "</div>"
      ],
      "text/plain": [
       "                 nm_prop_oportunidade convertido  probabilidade_conversao\n",
       "0               adryson pinto freitas          S                 0.676156\n",
       "1                         ediane rosa          S                 0.354946\n",
       "2            fabiano martins werutsky          S                 0.527610\n",
       "3                felipe pedroso alves          S                 0.354946\n",
       "4        juliana westphalen gonçalves          N                 0.531837\n",
       "5                     matheus homrich          S                 0.354946\n",
       "6                michelle costa malta          N                 0.354946\n",
       "7  rafaela de sousa paonessa loureiro          S                 0.727105"
      ]
     },
     "metadata": {},
     "output_type": "display_data"
    }
   ],
   "source": [
    "probabilities_teste = classifier.predict(X_test_final)\n",
    "\n",
    "predicted_probabilities = probabilities_teste.flatten()\n",
    "\n",
    "\n",
    "df_temporario_teste = pd.DataFrame({\n",
    "    'nm_prop_oportunidade': x_teste_df['nm_prop_oportunidade'].values,\n",
    "    'convertido': y_teste.values,\n",
    "    'probabilidade_conversao': predicted_probabilities\n",
    "})\n",
    "\n",
    "\n",
    "df_temporario_teste = df_temporario_teste.drop_duplicates(subset=['nm_prop_oportunidade', 'convertido'])\n",
    "df_resultados_teste = df_temporario_teste.groupby('nm_prop_oportunidade', as_index=False).agg({\n",
    "    'convertido': 'first',\n",
    "    'probabilidade_conversao': 'mean'\n",
    "})\n",
    "\n",
    "\n",
    "with pd.option_context('display.max_rows', None):\n",
    "    display(df_resultados_teste)\n",
    "\n"
   ]
  },
  {
   "cell_type": "code",
   "execution_count": 50,
   "metadata": {},
   "outputs": [],
   "source": [
    "df_resultados_teste.to_csv(\"classificacao_tensorflow.csv\")"
   ]
  },
  {
   "cell_type": "code",
   "execution_count": 51,
   "metadata": {},
   "outputs": [
    {
     "data": {
      "text/plain": [
       "'\\nnm_prop_oportunidade\\tconvertido\\tprobabilidade_conversao\\n0\\tadryson pinto freitas\\tS\\t0.495354\\n1\\tediane rosa\\tS\\t0.946118\\n2\\tfabiano martins werutsky\\tS\\t0.546198\\n3\\tfelipe pedroso alves\\tS\\t0.925496\\n4\\tjuliana westphalen gonçalves\\tN\\t0.388855\\n5\\tmatheus homrich\\tS\\t0.822305\\n6\\tmichelle costa malta\\tN\\t0.819763\\n7\\trafaela de sousa paonessa loureiro\\tS\\t0.765156'"
      ]
     },
     "execution_count": 51,
     "metadata": {},
     "output_type": "execute_result"
    }
   ],
   "source": [
    "'''\n",
    "nm_prop_oportunidade\tconvertido\tprobabilidade_conversao\n",
    "0\tadryson pinto freitas\tS\t0.495354\n",
    "1\tediane rosa\tS\t0.946118\n",
    "2\tfabiano martins werutsky\tS\t0.546198\n",
    "3\tfelipe pedroso alves\tS\t0.925496\n",
    "4\tjuliana westphalen gonçalves\tN\t0.388855\n",
    "5\tmatheus homrich\tS\t0.822305\n",
    "6\tmichelle costa malta\tN\t0.819763\n",
    "7\trafaela de sousa paonessa loureiro\tS\t0.765156'''"
   ]
  },
  {
   "cell_type": "code",
   "execution_count": 52,
   "metadata": {},
   "outputs": [
    {
     "data": {
      "text/plain": [
       "'\\nnm_prop_oportunidade\\tconvertido\\tprobabilidade_conversao\\n0\\tadryson pinto freitas\\tS\\t0.707530\\n1\\tediane rosa\\tS\\t0.361255\\n2\\tfabiano martins werutsky\\tS\\t0.492400\\n3\\tfelipe pedroso alves\\tS\\t0.373291\\n4\\tjuliana westphalen gonçalves\\tN\\t0.555003\\n5\\tmatheus homrich\\tS\\t0.397562\\n6\\tmichelle costa malta\\tN\\t0.465311\\n7\\trafaela de sousa paonessa loureiro\\tS\\t0.700739'"
      ]
     },
     "execution_count": 52,
     "metadata": {},
     "output_type": "execute_result"
    }
   ],
   "source": [
    "'''\n",
    "nm_prop_oportunidade\tconvertido\tprobabilidade_conversao\n",
    "0\tadryson pinto freitas\tS\t0.707530\n",
    "1\tediane rosa\tS\t0.361255\n",
    "2\tfabiano martins werutsky\tS\t0.492400\n",
    "3\tfelipe pedroso alves\tS\t0.373291\n",
    "4\tjuliana westphalen gonçalves\tN\t0.555003\n",
    "5\tmatheus homrich\tS\t0.397562\n",
    "6\tmichelle costa malta\tN\t0.465311\n",
    "7\trafaela de sousa paonessa loureiro\tS\t0.700739'''"
   ]
  },
  {
   "cell_type": "code",
   "execution_count": null,
   "metadata": {},
   "outputs": [],
   "source": []
  }
 ],
 "metadata": {
  "kernelspec": {
   "display_name": "venv",
   "language": "python",
   "name": "python3"
  },
  "language_info": {
   "codemirror_mode": {
    "name": "ipython",
    "version": 3
   },
   "file_extension": ".py",
   "mimetype": "text/x-python",
   "name": "python",
   "nbconvert_exporter": "python",
   "pygments_lexer": "ipython3",
   "version": "3.8.0"
  }
 },
 "nbformat": 4,
 "nbformat_minor": 2
}
