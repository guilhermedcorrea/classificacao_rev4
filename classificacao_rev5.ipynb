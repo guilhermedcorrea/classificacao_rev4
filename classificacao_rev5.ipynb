{
 "cells": [
  {
   "cell_type": "code",
   "execution_count": 31,
   "metadata": {},
   "outputs": [],
   "source": [
    "import pandas as pd\n",
    "from sklearn.model_selection import StratifiedKFold, GridSearchCV\n",
    "from sklearn.pipeline import Pipeline\n",
    "from sklearn.compose import ColumnTransformer\n",
    "from sklearn.impute import SimpleImputer\n",
    "from sklearn.preprocessing import LabelEncoder, OneHotEncoder, StandardScaler\n",
    "from xgboost import XGBClassifier\n",
    "from sklearn.model_selection import train_test_split"
   ]
  },
  {
   "cell_type": "code",
   "execution_count": 32,
   "metadata": {},
   "outputs": [],
   "source": [
    "base_treino = pd.read_csv(r\"D:\\pipeline_dados\\data_raw\\base_orcamentos_treino.csv\")\n",
    "x_teste_df = pd.read_csv(r\"D:\\pipeline_dados\\base_orcamentos_nov.csv\")"
   ]
  },
  {
   "cell_type": "code",
   "execution_count": 33,
   "metadata": {},
   "outputs": [],
   "source": [
    "y = base_treino['convertido']\n",
    "\n",
    "\n",
    "base_treino = base_treino.drop(['convertido', 'id_quote'], axis=1)\n",
    "x_teste_df = x_teste_df.drop(['convertido', 'id_quote'], axis=1)\n",
    "\n",
    "\n",
    "categoricos = ['ds_tipo_obra', 'nm_prop_oportunidade', 'proprietario', 'promocional', 'tipo_loja',\n",
    "               'banheiro', 'toda_casa', 'cozinha', 'area_externa', 'itens_assentamento', 'sala',\n",
    "               'piscina', 'area_servico', 'garagem', 'dormitorio', 'varanda', 'escada', 'amb_outros']"
   ]
  },
  {
   "cell_type": "code",
   "execution_count": 34,
   "metadata": {},
   "outputs": [
    {
     "name": "stdout",
     "output_type": "stream",
     "text": [
      "Removing date column: dt_criacao\n"
     ]
    },
    {
     "name": "stderr",
     "output_type": "stream",
     "text": [
      "d:\\spark_testes\\venv\\lib\\site-packages\\sklearn\\preprocessing\\_encoders.py:228: UserWarning: Found unknown categories in columns [1, 2] during transform. These unknown categories will be encoded as all zeros\n",
      "  warnings.warn(\n"
     ]
    }
   ],
   "source": [
    "\n",
    "date_column = 'dt_criacao'\n",
    "\n",
    "if date_column in base_treino.columns:\n",
    "    print(f\"Removing date column: {date_column}\")\n",
    "    base_treino = base_treino.drop(date_column, axis=1, errors='ignore')\n",
    "    if date_column in categoricos:\n",
    "        categoricos.remove(date_column)\n",
    "else:\n",
    "    print(f\"Date column '{date_column}' not found in the training data.\")\n",
    "\n",
    "if date_column in x_teste_df.columns:\n",
    "    x_teste_df = x_teste_df.drop(date_column, axis=1, errors='ignore')\n",
    "    if date_column in categoricos:\n",
    "        categoricos.remove(date_column)\n",
    "else:\n",
    "    print(f\"Date column '{date_column}' not found in the test data.\")\n",
    "\n",
    "label_encoder = LabelEncoder()\n",
    "y = label_encoder.fit_transform(y)\n",
    "\n",
    "encoder = OneHotEncoder(drop='if_binary', handle_unknown='ignore')\n",
    "X_encoded = pd.DataFrame(encoder.fit_transform(base_treino[categoricos]).toarray(),\n",
    "                          columns=encoder.get_feature_names_out(categoricos))\n",
    "\n",
    "X_final = pd.concat([base_treino.drop(categoricos, axis=1), X_encoded], axis=1)\n",
    "\n",
    "X_test_encoded = pd.DataFrame(encoder.transform(x_teste_df[categoricos]).toarray(),\n",
    "                               columns=encoder.get_feature_names_out(categoricos))\n",
    "X_test_final = pd.concat([x_teste_df, X_test_encoded], axis=1).drop(categoricos, axis=1).fillna(0)\n",
    "\n",
    "X = X_final.select_dtypes(exclude=['datetime64[ns]'])\n",
    "\n",
    "X_train, X_valid, y_train, y_valid = train_test_split(X, y, test_size=0.2, random_state=42)\n",
    "\n",
    "\n",
    "\n"
   ]
  },
  {
   "cell_type": "code",
   "execution_count": 35,
   "metadata": {},
   "outputs": [
    {
     "name": "stdout",
     "output_type": "stream",
     "text": [
      "     predicted_class  probabilidade_S  probabilidade_N\n",
      "0                  0         0.469579         0.530421\n",
      "1                  1         0.896387         0.103613\n",
      "2                  1         0.981489         0.018511\n",
      "3                  0         0.004417         0.995583\n",
      "4                  1         0.906978         0.093022\n",
      "..               ...              ...              ...\n",
      "235                1         0.714420         0.285580\n",
      "236                0         0.104772         0.895228\n",
      "237                0         0.110570         0.889430\n",
      "238                0         0.377477         0.622523\n",
      "239                1         0.704969         0.295031\n",
      "\n",
      "[240 rows x 3 columns]\n"
     ]
    }
   ],
   "source": [
    "xgb_model = XGBClassifier()\n",
    "\n",
    "\n",
    "xgb_model.fit(X_train, y_train)\n",
    "\n",
    "\n",
    "y_pred = xgb_model.predict(X_valid)\n",
    "\n",
    "y_test_prob = xgb_model.predict_proba(X_test_final)\n",
    "y_test_pred = xgb_model.predict(X_test_final)\n",
    "\n",
    "result_df = pd.DataFrame({'predicted_class': y_test_pred, 'probabilidade_S': y_test_prob[:, 1], 'probabilidade_N': y_test_prob[:, 0]})\n",
    "\n",
    "print(result_df)"
   ]
  }
 ],
 "metadata": {
  "kernelspec": {
   "display_name": "venv",
   "language": "python",
   "name": "python3"
  },
  "language_info": {
   "codemirror_mode": {
    "name": "ipython",
    "version": 3
   },
   "file_extension": ".py",
   "mimetype": "text/x-python",
   "name": "python",
   "nbconvert_exporter": "python",
   "pygments_lexer": "ipython3",
   "version": "3.8.0"
  }
 },
 "nbformat": 4,
 "nbformat_minor": 2
}
